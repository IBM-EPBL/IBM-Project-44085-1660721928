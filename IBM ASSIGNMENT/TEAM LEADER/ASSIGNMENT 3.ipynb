{
  "metadata": {
    "language_info": {
      "codemirror_mode": {
        "name": "python",
        "version": 3
      },
      "file_extension": ".py",
      "mimetype": "text/x-python",
      "name": "python",
      "nbconvert_exporter": "python",
      "pygments_lexer": "ipython3",
      "version": "3.8"
    },
    "kernelspec": {
      "name": "python",
      "display_name": "Python (Pyodide)",
      "language": "python"
    }
  },
  "nbformat_minor": 4,
  "nbformat": 4,
  "cells": [
    {
      "cell_type": "markdown",
      "source": "##Exercises\nAnswer the questions or complete the tasks outlined in bold below, use the specific method described if applicable.\n\nWhat is 7 to the power of 4?",
      "metadata": {}
    },
    {
      "cell_type": "code",
      "source": "import math\na = pow(7,4)\nprint(a)",
      "metadata": {
        "trusted": true
      },
      "execution_count": 1,
      "outputs": [
        {
          "name": "stdout",
          "text": "2401\n",
          "output_type": "stream"
        }
      ]
    },
    {
      "cell_type": "markdown",
      "source": "##Split this string:\n\ns = \"Hi there Sam!\"\n\ninto a list.",
      "metadata": {}
    },
    {
      "cell_type": "code",
      "source": "s = \"Hi there Sam!\"\na = s.split()\nprint(list(a))",
      "metadata": {
        "trusted": true
      },
      "execution_count": 3,
      "outputs": [
        {
          "name": "stdout",
          "text": "['Hi', 'there', 'Sam!']\n",
          "output_type": "stream"
        }
      ]
    },
    {
      "cell_type": "code",
      "source": "s = \"Hi there dad!\"\na = s.split()\nprint(list(a))",
      "metadata": {
        "trusted": true
      },
      "execution_count": 4,
      "outputs": [
        {
          "name": "stdout",
          "text": "['Hi', 'there', 'dad!']\n",
          "output_type": "stream"
        }
      ]
    },
    {
      "cell_type": "markdown",
      "source": "##Given the variables:\n\nplanet = \"Earth\"\ndiameter = 12742\n\nUse .format() to print the following string:\n\nThe diameter of Earth is 12742 kilometers.",
      "metadata": {}
    },
    {
      "cell_type": "code",
      "source": "a = \"the diameter of earth is {} kilometer\"",
      "metadata": {
        "trusted": true
      },
      "execution_count": 5,
      "outputs": []
    },
    {
      "cell_type": "code",
      "source": "print(a.format(12742))",
      "metadata": {
        "trusted": true
      },
      "execution_count": 6,
      "outputs": [
        {
          "name": "stdout",
          "text": "the diameter of earth is 12742 kilometer\n",
          "output_type": "stream"
        }
      ]
    },
    {
      "cell_type": "markdown",
      "source": "##Given this nested list, use indexing to grab the word \"hello\"",
      "metadata": {}
    },
    {
      "cell_type": "code",
      "source": "lst = [1,2,[3,4],[5,[100,200,['hello']],23,11],1,7]",
      "metadata": {
        "trusted": true
      },
      "execution_count": 8,
      "outputs": []
    },
    {
      "cell_type": "code",
      "source": "lst[3][1][2][0]",
      "metadata": {},
      "execution_count": null,
      "outputs": [
        {
          "execution_count": 9,
          "output_type": "execute_result",
          "data": {
            "text/plain": "'hello'"
          },
          "metadata": {}
        }
      ]
    },
    {
      "cell_type": "markdown",
      "source": "##What is the main difference between a tuple and a list?",
      "metadata": {}
    },
    {
      "cell_type": "code",
      "source": "list is \"mutable\" and tuple is \"immutable\"",
      "metadata": {
        "trusted": true
      },
      "execution_count": 10,
      "outputs": [
        {
          "name": "stderr",
          "text": "<>:1: SyntaxWarning: \"is\" with a literal. Did you mean \"==\"?\n<>:1: SyntaxWarning: \"is\" with a literal. Did you mean \"==\"?\n<>:1: SyntaxWarning: \"is\" with a literal. Did you mean \"==\"?\n<>:1: SyntaxWarning: \"is\" with a literal. Did you mean \"==\"?\n<ipython-input-10-60d49b87190e>:1: SyntaxWarning: \"is\" with a literal. Did you mean \"==\"?\n  list is \"mutable\" and tuple is \"immutable\"\n<ipython-input-10-60d49b87190e>:1: SyntaxWarning: \"is\" with a literal. Did you mean \"==\"?\n  list is \"mutable\" and tuple is \"immutable\"\n",
          "output_type": "stream"
        },
        {
          "execution_count": 10,
          "output_type": "execute_result",
          "data": {
            "text/plain": "False"
          },
          "metadata": {}
        }
      ]
    },
    {
      "cell_type": "markdown",
      "source": "##Create a function that grabs the email website domain from a string in the form:\n\nuser@domain.com\n\n##So for example, passing \"user@domain.com\" would return: domain.com",
      "metadata": {}
    },
    {
      "cell_type": "code",
      "source": "def domainGet(email):\n    return email.split('@')[-1]",
      "metadata": {
        "trusted": true
      },
      "execution_count": 11,
      "outputs": []
    },
    {
      "cell_type": "code",
      "source": "domainGet('user@domain.com')",
      "metadata": {
        "trusted": true
      },
      "execution_count": 12,
      "outputs": [
        {
          "execution_count": 12,
          "output_type": "execute_result",
          "data": {
            "text/plain": "'domain.com'"
          },
          "metadata": {}
        }
      ]
    },
    {
      "cell_type": "markdown",
      "source": "##Create a basic function that returns True if the word 'dog' is contained in the input string. Don't worry about edge cases like a punctuation being attached to the word dog, but do account for capitalization.",
      "metadata": {}
    },
    {
      "cell_type": "code",
      "source": "def findDog(st):\n    return 'dog' in st.lower().split()",
      "metadata": {
        "trusted": true
      },
      "execution_count": 13,
      "outputs": []
    },
    {
      "cell_type": "code",
      "source": "findDog('Is there a dog here?')",
      "metadata": {
        "trusted": true
      },
      "execution_count": 14,
      "outputs": [
        {
          "execution_count": 14,
          "output_type": "execute_result",
          "data": {
            "text/plain": "True"
          },
          "metadata": {}
        }
      ]
    },
    {
      "cell_type": "markdown",
      "source": "##Create a function that counts the number of times the word \"dog\" occurs in a string. Again ignore edge cases.",
      "metadata": {}
    },
    {
      "cell_type": "code",
      "source": "def countDog(st):\n    count = 0\n    for word in st.lower().split():\n        if word == 'dog':\n            count += 1\n    return count",
      "metadata": {
        "trusted": true
      },
      "execution_count": 15,
      "outputs": []
    },
    {
      "cell_type": "code",
      "source": "countDog('This dog runs faster than the other dog dude!')\n",
      "metadata": {
        "trusted": true
      },
      "execution_count": 16,
      "outputs": [
        {
          "execution_count": 16,
          "output_type": "execute_result",
          "data": {
            "text/plain": "2"
          },
          "metadata": {}
        }
      ]
    },
    {
      "cell_type": "markdown",
      "source": "##Problem\nYou are driving a little too fast, and a police officer stops you. Write a function to return one of 3 possible results: \"No ticket\", \"Small ticket\", or \"Big Ticket\". If your speed is 60 or less, the result is \"No Ticket\". If speed is between 61 and 80 inclusive, the result is \"Small Ticket\". If speed is 81 or more, the result is \"Big Ticket\". Unless it is your birthday (encoded as a boolean value in the parameters of the function) -- on your birthday, your speed can be 5 higher in all cases",
      "metadata": {}
    },
    {
      "cell_type": "code",
      "source": "def caught_speeding(speed, is_birthday):\n    \n    if is_birthday:\n        speeding = speed - 5\n    else:\n        speeding = speed\n    \n    if speeding > 80:\n        return 'Big Ticket'\n    elif speeding > 60:\n        return 'Small Ticket'\n    else:\n        return 'No Ticket'",
      "metadata": {
        "trusted": true
      },
      "execution_count": 17,
      "outputs": []
    },
    {
      "cell_type": "code",
      "source": "def caught_speeding(speed, is_birthday):\n    \n    if is_birthday:\n        speeding = speed - 5\n    else:\n        speeding = speed\n    \n    if speeding > 80:\n        return 'Big Ticket'\n    elif speeding > 60:\n        return 'Small Ticket'\n    else:\n        return 'No Ticket'\ncaught_speeding(81,False)",
      "metadata": {
        "trusted": true
      },
      "execution_count": 18,
      "outputs": [
        {
          "execution_count": 18,
          "output_type": "execute_result",
          "data": {
            "text/plain": "'Big Ticket'"
          },
          "metadata": {}
        }
      ]
    },
    {
      "cell_type": "code",
      "source": "def caught_speeding(speed, is_birthday):\n    \n    if is_birthday:\n        speeding = speed - 5\n    else:\n        speeding = speed\n    \n    if speeding > 80:\n        return 'Big Ticket'\n    elif speeding > 60:\n        return 'Small Ticket'\n    else:\n        return 'No Ticket'\ncaught_speeding(81,True)",
      "metadata": {
        "trusted": true
      },
      "execution_count": 19,
      "outputs": [
        {
          "execution_count": 19,
          "output_type": "execute_result",
          "data": {
            "text/plain": "'Small Ticket'"
          },
          "metadata": {}
        }
      ]
    },
    {
      "cell_type": "markdown",
      "source": "##Create an employee list with basic salary values(at least 5 values for 5 employees) and using a for loop retreive each employee salary and calculate total salary expenditure",
      "metadata": {}
    },
    {
      "cell_type": "code",
      "source": "employee=[10000,40000,30000,20000,35000]\npf=2000\nda=1000\nhra=1500\nfor i in employee:\n  totexpense=pf+da+hra\n  print(i-(totexpense))",
      "metadata": {
        "trusted": true
      },
      "execution_count": 20,
      "outputs": [
        {
          "name": "stdout",
          "text": "5500\n35500\n25500\n15500\n30500\n",
          "output_type": "stream"
        }
      ]
    },
    {
      "cell_type": "markdown",
      "source": "##Create two dictionaries in Python:\n\nFirst one to contain fields as Empid, Empname, Basicpay\n\nSecond dictionary to contain fields as DeptName, DeptId.\n\nCombine both dictionaries.",
      "metadata": {}
    },
    {
      "cell_type": "code",
      "source": "def Merge(dict1, dict2):\n    return(dict2.update(dict1))\ndict1 = {'Empid': 10, 'Empname': 8, 'Basicpay':20000}\ndict2 = {'DeptName': 'HR', 'DeptId': 4}\nprint(Merge(dict1, dict2))\nprint(dict2)\nNone\n{'DeptName': 'HR', 'DeptId': 4, 'Empid': 10, 'Empname': 8, 'Basicpay': 20000}",
      "metadata": {
        "trusted": true
      },
      "execution_count": 21,
      "outputs": [
        {
          "name": "stdout",
          "text": "None\n{'DeptName': 'HR', 'DeptId': 4, 'Empid': 10, 'Empname': 8, 'Basicpay': 20000}\n",
          "output_type": "stream"
        },
        {
          "execution_count": 21,
          "output_type": "execute_result",
          "data": {
            "text/plain": "{'DeptName': 'HR', 'DeptId': 4, 'Empid': 10, 'Empname': 8, 'Basicpay': 20000}"
          },
          "metadata": {}
        }
      ]
    },
    {
      "cell_type": "code",
      "source": "",
      "metadata": {},
      "execution_count": null,
      "outputs": []
    }
  ]
}